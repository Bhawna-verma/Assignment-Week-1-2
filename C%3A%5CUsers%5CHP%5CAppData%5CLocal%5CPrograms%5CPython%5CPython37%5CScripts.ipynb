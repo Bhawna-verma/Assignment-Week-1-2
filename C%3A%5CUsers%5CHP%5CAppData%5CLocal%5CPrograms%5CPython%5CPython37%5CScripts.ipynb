{
 "cells": [
  {
   "cell_type": "code",
   "execution_count": 2,
   "metadata": {},
   "outputs": [
    {
     "name": "stdout",
     "output_type": "stream",
     "text": [
      "{'g': 2, 'o': 3, 'l': 1, 'e': 1, '.': 1, 'c': 1, 'm': 1}\n"
     ]
    }
   ],
   "source": [
    "#Q1. Write a Python program to count the number of characters (character frequency) in a string\n",
    "\n",
    "def char_frequency(s1):\n",
    "    dict = {}\n",
    "    for n in s1:\n",
    "        keys = dict.keys()\n",
    "        if n in keys:\n",
    "            dict[n] += 1\n",
    "        else:\n",
    "            dict[n]=1\n",
    "            return dict\n",
    "   \n",
    "print(char_frequency('google.com'))"
   ]
  },
  {
   "cell_type": "code",
   "execution_count": 33,
   "metadata": {},
   "outputs": [
    {
     "name": "stdout",
     "output_type": "stream",
     "text": [
      "Machine Learning\n"
     ]
    }
   ],
   "source": [
    "#Q3 Write a Python function that takes a list of words and returns the length of the longest one\n",
    "\n",
    "def longest_words(wl):\n",
    "    word_len = []\n",
    "    for n in wl:\n",
    "        word_len.append((len(n), n))\n",
    "    word_len.sort()\n",
    "    return word_len[-1][1]\n",
    "\n",
    "print(longest_words([\"Python\", \"Java\", \"Ruby\",\"Machine Learning\"]))"
   ]
  },
  {
   "cell_type": "code",
   "execution_count": 4,
   "metadata": {},
   "outputs": [
    {
     "name": "stdout",
     "output_type": "stream",
     "text": [
      "{'We': 2, 'should': 3, 'look': 1, 'at': 1, 'good': 1, 'things': 1, ',we': 1, 'not': 2, 'hear': 1, 'bad': 2, 'words': 1, 'and': 1, 'speak': 1, 'words.': 1}\n"
     ]
    }
   ],
   "source": [
    "#4. Write a Python program to count the occurrences of each word in a given sentence\n",
    "\n",
    "def word_count(str):\n",
    "    counts = dict()\n",
    "    words = str.split()\n",
    "\n",
    "    for w in words:\n",
    "        if w in counts:\n",
    "            counts[w] += 1\n",
    "        else:\n",
    "            counts[w] = 1\n",
    "\n",
    "    return counts\n",
    "\n",
    "print( word_count('We should look at good things ,we should not hear bad words and We should not speak bad words. '))"
   ]
  },
  {
   "cell_type": "code",
   "execution_count": 5,
   "metadata": {},
   "outputs": [
    {
     "name": "stdout",
     "output_type": "stream",
     "text": [
      "Python\n",
      "PYTHON\n"
     ]
    }
   ],
   "source": [
    "#5. Write a Python function to convert a given string to all uppercase if it contains at least 2 uppercase characters in the first 4 characters\n",
    "\n",
    "def to_uppercase(str1):\n",
    "    num_upper = 0\n",
    "    for letter in str1[:4]:\n",
    "        if letter.upper() == letter:\n",
    "            num_upper += 1\n",
    "    if num_upper >= 2:\n",
    "        return str1.upper()\n",
    "    return str1\n",
    "\n",
    "print(to_uppercase('Python'))\n",
    "print(to_uppercase('PyThon'))"
   ]
  },
  {
   "cell_type": "code",
   "execution_count": 6,
   "metadata": {},
   "outputs": [
    {
     "name": "stdout",
     "output_type": "stream",
     "text": [
      "4\n",
      "['e', 'o', 'o', 'a']\n"
     ]
    }
   ],
   "source": [
    "#6. Write a Python program to count and display the vowels of a given text\n",
    "\n",
    "def vowel(text):\n",
    "    vowels = \"AEIOUaeiou\"\n",
    "    print(len([letter for letter in text if letter in vowels]))\n",
    "    print([letter for letter in text if letter in vowels])\n",
    "vowel('technocolabs')"
   ]
  },
  {
   "cell_type": "code",
   "execution_count": 7,
   "metadata": {},
   "outputs": [
    {
     "name": "stdout",
     "output_type": "stream",
     "text": [
      "List is empty\n"
     ]
    }
   ],
   "source": [
    "\n",
    "#1. Write a Python program to check a list is empty or not\n",
    "\n",
    "l = []\n",
    "if not l:\n",
    "  print(\"List is empty\")\n"
   ]
  },
  {
   "cell_type": "code",
   "execution_count": 8,
   "metadata": {},
   "outputs": [
    {
     "name": "stdout",
     "output_type": "stream",
     "text": [
      "{40, 10, 80, 50, 20, 60, 30}\n"
     ]
    }
   ],
   "source": [
    "#2. Write a Python program to remove duplicates from a list.\n",
    "\n",
    "a = [10,20,30,20,10,50,60,40,80,50,40]\n",
    "\n",
    "d= set()\n",
    "u = []\n",
    "for x in a:\n",
    "    if x not in d:\n",
    "        u.append(x)\n",
    "        d.add(x)\n",
    "\n",
    "print(d)\n"
   ]
  },
  {
   "cell_type": "code",
   "execution_count": 9,
   "metadata": {},
   "outputs": [
    {
     "name": "stdout",
     "output_type": "stream",
     "text": [
      "True\n",
      "None\n"
     ]
    }
   ],
   "source": [
    "#3. Write a Python function that takes two lists and returns True if they have at least one common member\n",
    "\n",
    "def common_element(list1, list2):\n",
    "    result = False\n",
    "    for x in list1:\n",
    "        for y in list2:\n",
    "            if x == y:\n",
    "                result = True\n",
    "                return result\n",
    "\n",
    "\n",
    "print(common_element([1, 2, 3, 4, 5], [5, 6, 7, 8, 9]))\n",
    "print(common_element([1, 2, 3, 4, 5], [6, 7, 8, 9]))"
   ]
  },
  {
   "cell_type": "code",
   "execution_count": 10,
   "metadata": {},
   "outputs": [
    {
     "name": "stdout",
     "output_type": "stream",
     "text": [
      "[3, 4]\n"
     ]
    }
   ],
   "source": [
    "#4. Write a Python program to get the difference between the two lists\n",
    "\n",
    "l1 = [1, 2, 3, 4]\n",
    "l2 = [1, 2]\n",
    "print(list(set(l1) - set(l2)))\n"
   ]
  },
  {
   "cell_type": "code",
   "execution_count": 11,
   "metadata": {},
   "outputs": [
    {
     "name": "stdout",
     "output_type": "stream",
     "text": [
      "-2\n",
      "0\n",
      "0\n",
      "None\n",
      "None\n"
     ]
    }
   ],
   "source": [
    "#5. Write a Python program to find the second smallest number in a list\n",
    "\n",
    "\n",
    "def second_smallest(numbers):\n",
    "  if (len(numbers)<2):\n",
    "    return\n",
    "  if ((len(numbers)==2)  and (numbers[0] == numbers[1]) ):\n",
    "    return\n",
    "  dup_items = set()\n",
    "  uniq_items = []\n",
    "  for x in numbers:\n",
    "    if x not in dup_items:\n",
    "      uniq_items.append(x)\n",
    "      dup_items.add(x)\n",
    "  uniq_items.sort()\n",
    "  return  uniq_items[1]\n",
    "\n",
    "print(second_smallest([1, 2, -8, -2, 0, -2]))\n",
    "print(second_smallest([1, 1, 0, 0, 2, -2, -2]))\n",
    "print(second_smallest([1, 1, 1, 0, 0, 0, 2, -2, -2]))\n",
    "print(second_smallest([2,2]))\n",
    "print(second_smallest([2]))"
   ]
  },
  {
   "cell_type": "code",
   "execution_count": 12,
   "metadata": {},
   "outputs": [
    {
     "name": "stdout",
     "output_type": "stream",
     "text": [
      "Second highest number is :  45\n"
     ]
    }
   ],
   "source": [
    "#6. Write a Python program to find the second largest number in a list.\n",
    "\n",
    "list1 = [10, 20, 4, 45, 99]\n",
    "\n",
    "max = max(list1[0], list1[1])\n",
    "secondmax = min(list1[0], list1[1])\n",
    "\n",
    "for i in range(2, len(list1)):\n",
    "    if list1[i] > max:\n",
    "        secondmax = max\n",
    "        max = list1[i]\n",
    "    else:\n",
    "        if list1[i] > secondmax:\n",
    "            secondmax = list1[i]\n",
    "\n",
    "print(\"Second highest number is : \", str(secondmax))\n"
   ]
  },
  {
   "cell_type": "code",
   "execution_count": 13,
   "metadata": {},
   "outputs": [
    {
     "name": "stdout",
     "output_type": "stream",
     "text": [
      "Original List:  [13, 93, 5]\n",
      "Single Integer:  13935\n"
     ]
    }
   ],
   "source": [
    "#8. Write a Python program to convert a list of multiple integers into a single integer\n",
    "\n",
    "L = [13, 93, 5]\n",
    "print(\"Original List: \",L)\n",
    "x = int(\"\".join(map(str, L)))\n",
    "print(\"Single Integer: \",x)"
   ]
  },
  {
   "cell_type": "code",
   "execution_count": 14,
   "metadata": {},
   "outputs": [
    {
     "name": "stdout",
     "output_type": "stream",
     "text": [
      "Color1-Color2:  ['sky blue', 'pink', 'white']\n",
      "Color2-Color1:  ['purple', 'yellow']\n"
     ]
    }
   ],
   "source": [
    "#9. Write a Python program to compute the similarity between two lists.\n",
    "\n",
    "from collections import Counter\n",
    "color1 = [\"sky blue\", \"pink\", \"green\", \"blue\", \"white\"]\n",
    "color2 = [\"purple\", \"yellow\", \"green\", \"blue\"]\n",
    "counter1 = Counter(color1)\n",
    "counter2 = Counter(color2)\n",
    "print(\"Color1-Color2: \",list(counter1 - counter2))\n",
    "print(\"Color2-Color1: \",list(counter2 - counter1))"
   ]
  },
  {
   "cell_type": "code",
   "execution_count": 15,
   "metadata": {},
   "outputs": [
    {
     "name": "stdout",
     "output_type": "stream",
     "text": [
      "True\n",
      "False\n"
     ]
    }
   ],
   "source": [
    "#10. Write a Python program to check if all dictionaries in a list are empty or not.\n",
    "\n",
    "list1 = [{},{},{}]\n",
    "list2 = [{1,2},{},{}]\n",
    "print(all(not data for data in list1))\n",
    "print(all(not data for data in list2))"
   ]
  },
  {
   "cell_type": "code",
   "execution_count": 16,
   "metadata": {},
   "outputs": [
    {
     "name": "stdout",
     "output_type": "stream",
     "text": [
      "Input a number 7\n",
      "{1: 1, 2: 4, 3: 9, 4: 16, 5: 25, 6: 36, 7: 49}\n"
     ]
    }
   ],
   "source": [
    "#1. Write a Python script to generate and print a dictionary that contains a number (between 1 and n) in the form (x, x*x)\n",
    "\n",
    "n=int(input(\"Input a number \"))\n",
    "d = dict()\n",
    "\n",
    "for x in range(1,n+1):\n",
    "    d[x]=x*x\n",
    "\n",
    "print(d)"
   ]
  },
  {
   "cell_type": "code",
   "execution_count": 17,
   "metadata": {},
   "outputs": [
    {
     "name": "stdout",
     "output_type": "stream",
     "text": [
      "Counter({'a': 400, 'b': 400, 'd': 400, 'c': 300})\n"
     ]
    }
   ],
   "source": [
    "#2. Write a Python program to combine two dictionary adding values for common keys\n",
    "\n",
    "from collections import Counter\n",
    "dic1 = {'a': 100, 'b': 200, 'c':300}\n",
    "dic2 = {'a': 300, 'b': 200, 'd':400}\n",
    "D = Counter(dic1) + Counter(dic2)\n",
    "print(D)"
   ]
  },
  {
   "cell_type": "code",
   "execution_count": 18,
   "metadata": {},
   "outputs": [
    {
     "name": "stdout",
     "output_type": "stream",
     "text": [
      "{'b': 1, 'h': 1, 'a': 2, 'w': 1, 'n': 1}\n"
     ]
    }
   ],
   "source": [
    "\n",
    "#5. Write a Python program to create a dictionary from a string.\n",
    "\n",
    "\n",
    "from collections import defaultdict, Counter\n",
    "str1 = 'bhawna'\n",
    "my_dict = {}\n",
    "for letter in str1:\n",
    "    my_dict[letter] = my_dict.get(letter, 0) + 1\n",
    "print(my_dict)\n"
   ]
  },
  {
   "cell_type": "code",
   "execution_count": 20,
   "metadata": {},
   "outputs": [
    {
     "name": "stdout",
     "output_type": "stream",
     "text": [
      "('bhawna', 1.3, 2, False)\n"
     ]
    }
   ],
   "source": [
    "#1. Write a Python program to create a tuple with different data types.\n",
    "\n",
    "t = (\"bhawna\", 1.3, 2, False)\n",
    "print(t)"
   ]
  },
  {
   "cell_type": "code",
   "execution_count": 21,
   "metadata": {},
   "outputs": [
    {
     "name": "stdout",
     "output_type": "stream",
     "text": [
      "(1, 2, 3, 4, 5, 6)\n",
      "(1, 2, 3, 4, 5, 6, 11)\n",
      "(1, 2, 3, 4, 5, 6, 11, 12)\n"
     ]
    }
   ],
   "source": [
    "#2. Write a Python program to add an item in a tuple\n",
    "\n",
    "t = (1, 2, 3, 4, 5, 6)\n",
    "print(t)\n",
    "\n",
    "t = t + (11,)\n",
    "print(t)\n",
    "\n",
    "l=list(t)\n",
    "l.append(12)\n",
    "t=tuple(l)\n",
    "print(t)"
   ]
  },
  {
   "cell_type": "code",
   "execution_count": 23,
   "metadata": {},
   "outputs": [
    {
     "name": "stdout",
     "output_type": "stream",
     "text": [
      "Google\n"
     ]
    }
   ],
   "source": [
    "#3. Write a Python program to convert a tuple to a string.\n",
    "\n",
    "t = ('G', 'o', 'o', 'g', 'l''e')\n",
    "str =  ''.join(t)\n",
    "print(str)\n"
   ]
  },
  {
   "cell_type": "code",
   "execution_count": 24,
   "metadata": {},
   "outputs": [
    {
     "name": "stdout",
     "output_type": "stream",
     "text": [
      "(1, 0, 1, 3, 5, 3, 5, 7, 7, 7)\n",
      "0\n"
     ]
    }
   ],
   "source": [
    "#4. Write a Python program to find the repeated items of a tuple\n",
    "\n",
    "t =(1,0,1,3,5,3,5, 7,7,7)\n",
    "print(t)\n",
    "count = t.count(4)\n",
    "print(count)"
   ]
  },
  {
   "cell_type": "code",
   "execution_count": 25,
   "metadata": {},
   "outputs": [
    {
     "name": "stdout",
     "output_type": "stream",
     "text": [
      "('T', 'e', 'c', 'h', 'n', 'o', 'c', 'o', 'l', 'a', 'b', 's')\n",
      "12\n"
     ]
    }
   ],
   "source": [
    "#5. Write a Python program to find the length of a tuple.\n",
    "\n",
    "\n",
    "t = tuple(\"Technocolabs\")\n",
    "print(t)\n",
    "print(len(t))\n"
   ]
  },
  {
   "cell_type": "code",
   "execution_count": 26,
   "metadata": {},
   "outputs": [
    {
     "name": "stdout",
     "output_type": "stream",
     "text": [
      "{'B': 1, 'V': 2}\n"
     ]
    }
   ],
   "source": [
    "\n",
    "#6. Write a Python program to convert a tuple to a dictionary.\n",
    "\n",
    "t = ((1, \"B\"),(2, \"V\"))\n",
    "print(dict((y, x) for x, y in t))"
   ]
  },
  {
   "cell_type": "code",
   "execution_count": 28,
   "metadata": {},
   "outputs": [
    {
     "name": "stdout",
     "output_type": "stream",
     "text": [
      "Number of even numbers : 4\n",
      "Number of odd numbers : 5\n"
     ]
    }
   ],
   "source": [
    "\n",
    "#1. Write a Python program to count the number of even and odd numbers from a series of numbers.\n",
    "\n",
    "numbers = (1, 2, 3, 4, 5, 6, 7, 8, 9)\n",
    "count_odd = 0\n",
    "count_even = 0\n",
    "for x in numbers:\n",
    "        if not x % 2:\n",
    "    \t     count_even+=1\n",
    "        else:\n",
    "    \t     count_odd+=1\n",
    "print(\"Number of even numbers :\",count_even)\n",
    "print(\"Number of odd numbers :\",count_odd)"
   ]
  },
  {
   "cell_type": "code",
   "execution_count": 29,
   "metadata": {},
   "outputs": [
    {
     "name": "stdout",
     "output_type": "stream",
     "text": [
      "0 1 2 4 5 \n",
      "\n"
     ]
    }
   ],
   "source": [
    "#2. Write a Python program that prints all the numbers from 0 to 6 except 3 and 6.\n",
    "\n",
    "for x in range(6):\n",
    "    if (x == 3 or x == 6):\n",
    "        continue\n",
    "    print(x, end=' ')\n",
    "print(\"\\n\")"
   ]
  },
  {
   "cell_type": "code",
   "execution_count": 30,
   "metadata": {},
   "outputs": [
    {
     "name": "stdout",
     "output_type": "stream",
     "text": [
      "1\n",
      "1\n",
      "2\n",
      "3\n",
      "5\n",
      "8\n",
      "13\n",
      "21\n",
      "34\n"
     ]
    }
   ],
   "source": [
    "#3. Write a Python program to get the Fibonacci series between 0 to 50.\n",
    "\n",
    "x, y = 0, 1\n",
    "\n",
    "while y < 50:\n",
    "    print(y)\n",
    "    x, y = y, x + y\n"
   ]
  },
  {
   "cell_type": "code",
   "execution_count": 31,
   "metadata": {},
   "outputs": [
    {
     "name": "stdout",
     "output_type": "stream",
     "text": [
      "Input a number: 2\n",
      "2 x 1 = 2\n",
      "2 x 2 = 4\n",
      "2 x 3 = 6\n",
      "2 x 4 = 8\n",
      "2 x 5 = 10\n",
      "2 x 6 = 12\n",
      "2 x 7 = 14\n",
      "2 x 8 = 16\n",
      "2 x 9 = 18\n",
      "2 x 10 = 20\n"
     ]
    }
   ],
   "source": [
    "#5. Write a Python program to create the multiplication table (from 1 to 10) of a number.\n",
    "\n",
    "n = int(input(\"Input a number: \"))\n",
    "\n",
    "for i in range(1, 11):\n",
    "    print(n, 'x', i, '=', n * i)"
   ]
  },
  {
   "cell_type": "code",
   "execution_count": 32,
   "metadata": {},
   "outputs": [
    {
     "name": "stdout",
     "output_type": "stream",
     "text": [
      "[2, 4, 6, 8]\n"
     ]
    }
   ],
   "source": [
    "#5. Write a Python program to print the even numbers from a given list\n",
    "\n",
    "def even_no(l):\n",
    "    enum = []\n",
    "    for n in l:\n",
    "        if n % 2 == 0:\n",
    "            enum.append(n)\n",
    "    return enum\n",
    "print(even_no([1, 2, 3, 4, 5, 6, 7, 8, 9]))"
   ]
  },
  {
   "cell_type": "code",
   "execution_count": null,
   "metadata": {},
   "outputs": [],
   "source": []
  }
 ],
 "metadata": {
  "kernelspec": {
   "display_name": "Python 3",
   "language": "python",
   "name": "python3"
  },
  "language_info": {
   "codemirror_mode": {
    "name": "ipython",
    "version": 3
   },
   "file_extension": ".py",
   "mimetype": "text/x-python",
   "name": "python",
   "nbconvert_exporter": "python",
   "pygments_lexer": "ipython3",
   "version": "3.7.2"
  }
 },
 "nbformat": 4,
 "nbformat_minor": 4
}
